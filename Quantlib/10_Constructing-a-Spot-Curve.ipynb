{
 "cells": [
  {
   "cell_type": "code",
   "execution_count": 5,
   "id": "ed9acc2d-bb9f-4a3e-ab89-cdc8651cc1a9",
   "metadata": {},
   "outputs": [],
   "source": [
    "import QuantLib as ql\n",
    "from pandas import DataFrame\n",
    "import numpy as np\n",
    "import datetime\n",
    "import matplotlib.pyplot as plt"
   ]
  },
  {
   "cell_type": "markdown",
   "id": "31b2db8a-a46b-40d5-8d4f-a6bdc2665368",
   "metadata": {},
   "source": [
    "### Idea\n",
    "\n",
    "- The idea of this exercise is to perform <b>bootstrapping</b> to construct the theoretical <b>Spot Rate Cruve</b> for Treasuries\n",
    "- The example is based on <b>Exhibit 5-5 given in Frank Fabozzi’s Bond Markets, Analysis and Strategies, Sixth Edition</b>\n",
    "\n",
    "<br>\n",
    "<br>"
   ]
  },
  {
   "cell_type": "markdown",
   "id": "9696e98c-a15a-4048-8b0a-9630bab933be",
   "metadata": {},
   "source": [
    "### 1. Setting up Constants and Conventions\n",
    "- The below constants and conventions are defined for calculation\n",
    "- For simplicity, we assume they are the same for both deposit rates and bond rates"
   ]
  },
  {
   "cell_type": "code",
   "execution_count": 6,
   "id": "bf8d0bae-5f9b-4c5f-ba77-d246d32a1243",
   "metadata": {},
   "outputs": [],
   "source": [
    "calc_date = ql.Date(15, 1, 2015)\n",
    "ql.Settings.instance().evaluationDate = calc_date\n",
    "\n",
    "calendar = ql.UnitedStates(ql.UnitedStates.GovernmentBond)\n",
    "business_convention = ql.Unadjusted\n",
    "day_count = ql.Thirty360(ql.Thirty360.BondBasis)\n",
    "end_of_month = True\n",
    "settlement_days = 0\n",
    "face_amount = 100\n",
    "coupon_frequency = ql.Period(ql.Semiannual)\n",
    "settlement_days = 0"
   ]
  },
  {
   "cell_type": "markdown",
   "id": "78a34ba9-5a82-4218-904f-3c634b304553",
   "metadata": {},
   "source": [
    "<br>\n",
    "<br>"
   ]
  },
  {
   "cell_type": "markdown",
   "id": "edd9f670-b0b9-4b58-a889-9ff4acf372b7",
   "metadata": {},
   "source": [
    "### 2. Observe Yields on Treasury Securities from Market\n",
    "\n",
    "- Assume the following <b>yield-to-maturity</b> for 20 Hypothtical <b>Treasury Securities</b> are observed from the market\n",
    "- Notice that six-month and one-year issues are zero-coupon instruments"
   ]
  },
  {
   "cell_type": "code",
   "execution_count": 17,
   "id": "5f5a9200-1486-4e7e-960b-bcf7daeefbe3",
   "metadata": {},
   "outputs": [
    {
     "data": {
      "text/html": [
       "<div>\n",
       "<style scoped>\n",
       "    .dataframe tbody tr th:only-of-type {\n",
       "        vertical-align: middle;\n",
       "    }\n",
       "\n",
       "    .dataframe tbody tr th {\n",
       "        vertical-align: top;\n",
       "    }\n",
       "\n",
       "    .dataframe thead th {\n",
       "        text-align: right;\n",
       "    }\n",
       "</style>\n",
       "<table border=\"1\" class=\"dataframe\">\n",
       "  <thead>\n",
       "    <tr style=\"text-align: right;\">\n",
       "      <th></th>\n",
       "      <th>Maturities</th>\n",
       "      <th>Curve</th>\n",
       "    </tr>\n",
       "  </thead>\n",
       "  <tbody>\n",
       "    <tr>\n",
       "      <th></th>\n",
       "      <td>6M</td>\n",
       "      <td>5.25</td>\n",
       "    </tr>\n",
       "    <tr>\n",
       "      <th></th>\n",
       "      <td>12M</td>\n",
       "      <td>5.50</td>\n",
       "    </tr>\n",
       "    <tr>\n",
       "      <th></th>\n",
       "      <td>18M</td>\n",
       "      <td>5.75</td>\n",
       "    </tr>\n",
       "    <tr>\n",
       "      <th></th>\n",
       "      <td>24M</td>\n",
       "      <td>6.00</td>\n",
       "    </tr>\n",
       "    <tr>\n",
       "      <th></th>\n",
       "      <td>30M</td>\n",
       "      <td>6.25</td>\n",
       "    </tr>\n",
       "    <tr>\n",
       "      <th></th>\n",
       "      <td>36M</td>\n",
       "      <td>6.50</td>\n",
       "    </tr>\n",
       "    <tr>\n",
       "      <th></th>\n",
       "      <td>42M</td>\n",
       "      <td>6.75</td>\n",
       "    </tr>\n",
       "    <tr>\n",
       "      <th></th>\n",
       "      <td>48M</td>\n",
       "      <td>6.80</td>\n",
       "    </tr>\n",
       "    <tr>\n",
       "      <th></th>\n",
       "      <td>54M</td>\n",
       "      <td>7.00</td>\n",
       "    </tr>\n",
       "    <tr>\n",
       "      <th></th>\n",
       "      <td>60M</td>\n",
       "      <td>7.10</td>\n",
       "    </tr>\n",
       "    <tr>\n",
       "      <th></th>\n",
       "      <td>66M</td>\n",
       "      <td>7.15</td>\n",
       "    </tr>\n",
       "    <tr>\n",
       "      <th></th>\n",
       "      <td>72M</td>\n",
       "      <td>7.20</td>\n",
       "    </tr>\n",
       "    <tr>\n",
       "      <th></th>\n",
       "      <td>78M</td>\n",
       "      <td>7.30</td>\n",
       "    </tr>\n",
       "    <tr>\n",
       "      <th></th>\n",
       "      <td>84M</td>\n",
       "      <td>7.35</td>\n",
       "    </tr>\n",
       "    <tr>\n",
       "      <th></th>\n",
       "      <td>90M</td>\n",
       "      <td>7.40</td>\n",
       "    </tr>\n",
       "    <tr>\n",
       "      <th></th>\n",
       "      <td>96M</td>\n",
       "      <td>7.50</td>\n",
       "    </tr>\n",
       "    <tr>\n",
       "      <th></th>\n",
       "      <td>102M</td>\n",
       "      <td>7.60</td>\n",
       "    </tr>\n",
       "    <tr>\n",
       "      <th></th>\n",
       "      <td>108M</td>\n",
       "      <td>7.60</td>\n",
       "    </tr>\n",
       "    <tr>\n",
       "      <th></th>\n",
       "      <td>114M</td>\n",
       "      <td>7.70</td>\n",
       "    </tr>\n",
       "    <tr>\n",
       "      <th></th>\n",
       "      <td>120M</td>\n",
       "      <td>7.80</td>\n",
       "    </tr>\n",
       "  </tbody>\n",
       "</table>\n",
       "</div>"
      ],
      "text/plain": [
       " Maturities  Curve\n",
       "         6M   5.25\n",
       "        12M   5.50\n",
       "        18M   5.75\n",
       "        24M   6.00\n",
       "        30M   6.25\n",
       "        36M   6.50\n",
       "        42M   6.75\n",
       "        48M   6.80\n",
       "        54M   7.00\n",
       "        60M   7.10\n",
       "        66M   7.15\n",
       "        72M   7.20\n",
       "        78M   7.30\n",
       "        84M   7.35\n",
       "        90M   7.40\n",
       "        96M   7.50\n",
       "       102M   7.60\n",
       "       108M   7.60\n",
       "       114M   7.70\n",
       "       120M   7.80"
      ]
     },
     "execution_count": 17,
     "metadata": {},
     "output_type": "execute_result"
    }
   ],
   "source": [
    "# Setting deposit maturities and rates\n",
    "bill_maturities = [ql.Period(6, ql.Months), ql.Period(12, ql.Months)]\n",
    "bill_rates = [5.25, 5.5]\n",
    "\n",
    "# Setting bond maturities and rates\n",
    "bond_maturities = [ql.Period(6*i, ql.Months) for i in range(3,21)]\n",
    "bond_rates = [5.75, 6.0, 6.25, 6.5, 6.75, 6.80, 7.00, 7.1, 7.15,\n",
    "              7.2, 7.3, 7.35, 7.4, 7.5, 7.6, 7.6, 7.7, 7.8]\n",
    "\n",
    "# Combining deposit and bond maturities and rates\n",
    "maturities = bill_maturities + bond_maturities\n",
    "rates = bill_rates + bond_rates\n",
    "DataFrame(list(zip(maturities,rates)),\n",
    "          columns=[\"Maturities\", \"Curve\"],\n",
    "          index=['']*len(rates))"
   ]
  },
  {
   "cell_type": "code",
   "execution_count": 18,
   "id": "820e1efe-ff5a-4c1c-b2df-93b1c392a59a",
   "metadata": {},
   "outputs": [
    {
     "data": {
      "text/plain": [
       "Text(0.5, 1.0, 'Treasury Yield Curve (YTM)')"
      ]
     },
     "execution_count": 18,
     "metadata": {},
     "output_type": "execute_result"
    },
    {
     "data": {
      "image/png": "[encoded data removed]",
      "text/plain": [
       "<Figure size 640x480 with 1 Axes>"
      ]
     },
     "metadata": {},
     "output_type": "display_data"
    }
   ],
   "source": [
    "maturities_plot = [6*i for i in range(1,21)]\n",
    "plt.figure(1)\n",
    "plt.grid()\n",
    "plt.plot(maturities_plot, rates)\n",
    "plt.xlabel(\"Maturities (Month)\")\n",
    "plt.ylabel(\"Yield to Maturity\")\n",
    "plt.title(\"Treasury Yield Curve (YTM)\")"
   ]
  },
  {
   "cell_type": "markdown",
   "id": "65e6f3b0-4fa2-4a3e-a0d5-419d7bf0fc12",
   "metadata": {},
   "source": [
    "<br>\n",
    "<br>"
   ]
  },
  {
   "cell_type": "markdown",
   "id": "736454cd-2085-441d-b72e-818b325efbe5",
   "metadata": {},
   "source": [
    "### 3. Bootstrapping in Quantlib"
   ]
  },
  {
   "cell_type": "markdown",
   "id": "d60d09e3-6398-417e-b4f8-a3da290e43f6",
   "metadata": {},
   "source": [
    "#### 3.1 Setting up deposite rate helper and bond rate helper in Quantlib\n",
    "- Rates are constructed as helper object in Quantlib"
   ]
  },
  {
   "cell_type": "code",
   "execution_count": 19,
   "id": "e276d093-7d0c-4b1d-97b8-625d67415ec2",
   "metadata": {},
   "outputs": [],
   "source": [
    "# Setting up deposit rate helper\n",
    "bill_helpers = [\n",
    "    ql.DepositRateHelper(ql.QuoteHandle(ql.SimpleQuote(r/100.0)),\n",
    "                         m,\n",
    "                         settlement_days,\n",
    "                         calendar,\n",
    "                         business_convention,\n",
    "                         end_of_month,\n",
    "                         day_count)\n",
    "    for r, m in zip(bill_rates, bill_maturities)\n",
    "]\n",
    "\n",
    "# Setting up bond rate helper\n",
    "bond_helpers = []\n",
    "for r, m in zip(bond_rates, bond_maturities):\n",
    "    termination_date = calc_date + m\n",
    "    schedule = ql.Schedule(calc_date,\n",
    "                           termination_date,\n",
    "                           coupon_frequency,\n",
    "                           calendar,\n",
    "                           business_convention,\n",
    "                           business_convention,\n",
    "                           ql.DateGeneration.Backward,\n",
    "                           end_of_month)\n",
    "    bond_helper = ql.FixedRateBondHelper(\n",
    "        ql.QuoteHandle(ql.SimpleQuote(face_amount)),\n",
    "        settlement_days,\n",
    "        face_amount,\n",
    "        schedule,\n",
    "        [r/100],\n",
    "        day_count,\n",
    "        business_convention)\n",
    "    bond_helpers.append(bond_helper)\n",
    "\n",
    "# Combinning the two helpers\n",
    "rate_helpers = bill_helpers + bond_helpers"
   ]
  },
  {
   "cell_type": "markdown",
   "id": "a0f921cb-5d51-4cf2-a660-de980554309d",
   "metadata": {},
   "source": [
    "<br>\n",
    "\n",
    "#### 3.2 Yield Curve Construction in Quantlib\n",
    "\n",
    "- We then construct a piece wise yield curve using LogCubic Interpolation in Quantlib"
   ]
  },
  {
   "cell_type": "code",
   "execution_count": 20,
   "id": "a125efc8-28f8-4487-a48c-9e701f789814",
   "metadata": {},
   "outputs": [],
   "source": [
    "yc_logcubicdiscount = ql.PiecewiseLogCubicDiscount(calc_date, rate_helpers, day_count)"
   ]
  },
  {
   "cell_type": "markdown",
   "id": "0694b093-a74b-404b-b592-bfc18cfa77de",
   "metadata": {},
   "source": [
    "<br>\n",
    "\n",
    "#### 3.3 Extracting Spot Rates from Yield Curve\n",
    "- The following is a wrapper function that will extract spot rates on a monthly interval"
   ]
  },
  {
   "cell_type": "code",
   "execution_count": 21,
   "id": "371c3ad1-7da7-4a9f-a34b-534f70fd9822",
   "metadata": {},
   "outputs": [
    {
     "data": {
      "text/html": [
       "<div>\n",
       "<style scoped>\n",
       "    .dataframe tbody tr th:only-of-type {\n",
       "        vertical-align: middle;\n",
       "    }\n",
       "\n",
       "    .dataframe tbody tr th {\n",
       "        vertical-align: top;\n",
       "    }\n",
       "\n",
       "    .dataframe thead th {\n",
       "        text-align: right;\n",
       "    }\n",
       "</style>\n",
       "<table border=\"1\" class=\"dataframe\">\n",
       "  <thead>\n",
       "    <tr style=\"text-align: right;\">\n",
       "      <th></th>\n",
       "      <th>Maturities</th>\n",
       "      <th>Curve</th>\n",
       "    </tr>\n",
       "  </thead>\n",
       "  <tbody>\n",
       "    <tr>\n",
       "      <th></th>\n",
       "      <td>0.000000</td>\n",
       "      <td>0.000000</td>\n",
       "    </tr>\n",
       "    <tr>\n",
       "      <th></th>\n",
       "      <td>0.083333</td>\n",
       "      <td>5.211311</td>\n",
       "    </tr>\n",
       "    <tr>\n",
       "      <th></th>\n",
       "      <td>0.166667</td>\n",
       "      <td>5.214626</td>\n",
       "    </tr>\n",
       "    <tr>\n",
       "      <th></th>\n",
       "      <td>0.250000</td>\n",
       "      <td>5.220153</td>\n",
       "    </tr>\n",
       "    <tr>\n",
       "      <th></th>\n",
       "      <td>0.333333</td>\n",
       "      <td>5.227891</td>\n",
       "    </tr>\n",
       "    <tr>\n",
       "      <th>...</th>\n",
       "      <td>...</td>\n",
       "      <td>...</td>\n",
       "    </tr>\n",
       "    <tr>\n",
       "      <th></th>\n",
       "      <td>9.666667</td>\n",
       "      <td>7.981384</td>\n",
       "    </tr>\n",
       "    <tr>\n",
       "      <th></th>\n",
       "      <td>9.750000</td>\n",
       "      <td>8.005292</td>\n",
       "    </tr>\n",
       "    <tr>\n",
       "      <th></th>\n",
       "      <td>9.833333</td>\n",
       "      <td>8.028145</td>\n",
       "    </tr>\n",
       "    <tr>\n",
       "      <th></th>\n",
       "      <td>9.916667</td>\n",
       "      <td>8.050187</td>\n",
       "    </tr>\n",
       "    <tr>\n",
       "      <th></th>\n",
       "      <td>10.000000</td>\n",
       "      <td>8.071649</td>\n",
       "    </tr>\n",
       "  </tbody>\n",
       "</table>\n",
       "<p>121 rows × 2 columns</p>\n",
       "</div>"
      ],
      "text/plain": [
       "    Maturities     Curve\n",
       "      0.000000  0.000000\n",
       "      0.083333  5.211311\n",
       "      0.166667  5.214626\n",
       "      0.250000  5.220153\n",
       "      0.333333  5.227891\n",
       "..         ...       ...\n",
       "      9.666667  7.981384\n",
       "      9.750000  8.005292\n",
       "      9.833333  8.028145\n",
       "      9.916667  8.050187\n",
       "     10.000000  8.071649\n",
       "\n",
       "[121 rows x 2 columns]"
      ]
     },
     "execution_count": 21,
     "metadata": {},
     "output_type": "execute_result"
    }
   ],
   "source": [
    "def get_spot_rates(yieldcurve, day_count, calendar=ql.UnitedStates(ql.UnitedStates.GovernmentBond), months=120):\n",
    "    spots = []\n",
    "    tenors = []\n",
    "    ref_date = yieldcurve.referenceDate()\n",
    "    calc_date = ref_date\n",
    "    \n",
    "    for month in range(0, months+1):\n",
    "        yrs = month/12.0\n",
    "        d = calendar.advance(ref_date, ql.Period(month, ql.Months))\n",
    "        compounding = ql.Compounded\n",
    "        freq = ql.Semiannual\n",
    "        zero_rate = yieldcurve.zeroRate(yrs, compounding, freq)\n",
    "        tenors.append(yrs)\n",
    "        eq_rate = zero_rate.equivalentRate(day_count, compounding, freq, calc_date, d).rate()\n",
    "        spots.append(100*eq_rate)\n",
    "\n",
    "    return DataFrame(list(zip(tenors, spots)), columns=[\"Maturities\", \"Curve\"], index=['']*len(spots))\n",
    "\n",
    "spot_curve_lcd = get_spot_rates(yc_logcubicdiscount, day_count)\n",
    "spot_curve_lcd"
   ]
  },
  {
   "cell_type": "markdown",
   "id": "f6d30924-d0b0-4d6e-a336-d82872361907",
   "metadata": {},
   "source": [
    "<br>\n",
    "\n",
    "#### 3.4 Plotting the Spot Curve"
   ]
  },
  {
   "cell_type": "code",
   "execution_count": 22,
   "id": "78540b67-518c-4059-bc0b-de66d1e8f9d0",
   "metadata": {},
   "outputs": [
    {
     "data": {
      "text/plain": [
       "Text(0.5, 1.0, 'Spot Curve')"
      ]
     },
     "execution_count": 22,
     "metadata": {},
     "output_type": "execute_result"
    },
    {
     "data": {
      "image/png": "[encoded data removed]",
      "text/plain": [
       "<Figure size 640x480 with 1 Axes>"
      ]
     },
     "metadata": {},
     "output_type": "display_data"
    }
   ],
   "source": [
    "plt.figure(1)\n",
    "plt.grid()\n",
    "plt.plot(spot_curve_lcd['Maturities'][1:], spot_curve_lcd['Curve'][1:])\n",
    "plt.xlabel(\"Years\")\n",
    "plt.ylabel(\"Spot Rate\")\n",
    "plt.title(\"Spot Curve\")"
   ]
  }
 ],
 "metadata": {
  "kernelspec": {
   "display_name": "Python 3 (ipykernel)",
   "language": "python",
   "name": "python3"
  },
  "language_info": {
   "codemirror_mode": {
    "name": "ipython",
    "version": 3
   },
   "file_extension": ".py",
   "mimetype": "text/x-python",
   "name": "python",
   "nbconvert_exporter": "python",
   "pygments_lexer": "ipython3",
   "version": "3.13.1"
  }
 },
 "nbformat": 4,
 "nbformat_minor": 5
}
